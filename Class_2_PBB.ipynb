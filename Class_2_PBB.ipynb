{
  "nbformat": 4,
  "nbformat_minor": 0,
  "metadata": {
    "colab": {
      "name": "Class-2-PBB.ipynb",
      "private_outputs": true,
      "provenance": [],
      "include_colab_link": true
    },
    "kernelspec": {
      "name": "python3",
      "display_name": "Python 3"
    },
    "language_info": {
      "name": "python"
    }
  },
  "cells": [
    {
      "cell_type": "markdown",
      "metadata": {
        "id": "view-in-github",
        "colab_type": "text"
      },
      "source": [
        "<a href=\"https://colab.research.google.com/github/SBL12/Python-11/blob/master/Class_2_PBB.ipynb\" target=\"_parent\"><img src=\"https://colab.research.google.com/assets/colab-badge.svg\" alt=\"Open In Colab\"/></a>"
      ]
    },
    {
      "cell_type": "code",
      "metadata": {
        "id": "ukA_18Qi13l5"
      },
      "source": [
        "# Warm-up exercise"
      ],
      "execution_count": null,
      "outputs": []
    },
    {
      "cell_type": "code",
      "metadata": {
        "id": "05sfdrRa2HmM"
      },
      "source": [
        "print(\"Hello\")"
      ],
      "execution_count": null,
      "outputs": []
    },
    {
      "cell_type": "markdown",
      "metadata": {
        "id": "vEoT3W162CHR"
      },
      "source": [
        "WArm-Up Exercise:\n",
        "\n",
        "\n",
        "\n",
        "Input a number\n",
        "and check that number is multiple of 3 or not\n",
        "\n",
        "\n",
        "ex:  Multiples of 3, 0,3,6,9\n",
        "\n",
        "\n",
        "12  YES\n",
        "17   NO"
      ]
    },
    {
      "cell_type": "code",
      "metadata": {
        "id": "nBZ5GH8q3RwA"
      },
      "source": [
        "print(19/2)   \n",
        "print(19//2)   \n",
        "print(19%2)   "
      ],
      "execution_count": null,
      "outputs": []
    },
    {
      "cell_type": "code",
      "metadata": {
        "id": "_bj5QgcI5sAI"
      },
      "source": [
        "num=int(input(\"Input a number\"))\n",
        "print(num)\n",
        "if num%3  == 0:  # TRUE\n",
        "   print(f\" {num} is multiple of 3\")\n",
        "else:  # FALSE\n",
        "   print(f\" {num} is not a multiple of 3\")"
      ],
      "execution_count": null,
      "outputs": []
    },
    {
      "cell_type": "markdown",
      "metadata": {
        "id": "4pudoF1b_y-p"
      },
      "source": [
        "Average\tGrade\n",
        "More than 90 \t    A\n",
        "80-89\t          B\n",
        "70-79\t          C\n",
        "60-69\t          D\n",
        "50-59             E\n",
        "0-50\t            F"
      ]
    },
    {
      "cell_type": "code",
      "metadata": {
        "id": "g-s-Tdy3-7CP"
      },
      "source": [
        "# To find out Grade\n",
        "subj1=int(input(\"Scores of subject:1  (0-100)\"))\n",
        "subj2=int(input(\"Scores of subject:2  (0-100)\"))\n",
        "subj3=int(input(\"Scores of subject:3  (0-100)\"))\n",
        "#average\n",
        "avg=(subj1+subj2+subj3)/3\n",
        "print(f\"Average is {round(avg,1)}\")\n",
        "\n",
        "if avg>=90:   # 90,91,92,.....A\n",
        "  print(\"Grade is A\")\n",
        "elif avg>=80 and avg<90:   # 80-90\n",
        "  print(\"Grade is B\")\n",
        "elif avg>=70 and avg<80:   # 70-80\n",
        "  print(\"Grade is C\")\n",
        "elif avg>=60 and avg<70:    # 60-70\n",
        "  print(\"Grade is D\")\n",
        "elif avg>=50 and avg<60:     # 50-60\n",
        "  print(\"Grade is E\")\n",
        "else:\n",
        "  print(\"Grade is F\")"
      ],
      "execution_count": null,
      "outputs": []
    },
    {
      "cell_type": "code",
      "metadata": {
        "id": "8OkSZGuhFD8U"
      },
      "source": [
        "# To find out Grade\n",
        "subj1=int(input(\"Scores of subject:1  (0-100)\"))\n",
        "subj2=int(input(\"Scores of subject:2  (0-100)\"))\n",
        "subj3=int(input(\"Scores of subject:3  (0-100)\"))\n",
        "#average\n",
        "avg=(subj1+subj2+subj3)/3\n",
        "print(f\"Average is {round(avg,1)}\")\n",
        "\n",
        "if avg>=90:   # 90,91,92,.....A\n",
        "  print(\"Grade is A\")\n",
        "elif 80<=avg<90:   # 80-90\n",
        "  print(\"Grade is B\")\n",
        "elif 70<=avg<80:   # 70-80\n",
        "  print(\"Grade is C\")\n",
        "elif 60<=avg<70:   # 60-70\n",
        "  print(\"Grade is D\")\n",
        "elif 50<=avg<60:     # 50-60\n",
        "  print(\"Grade is E\")\n",
        "else:\n",
        "  print(\"Grade is F\")"
      ],
      "execution_count": null,
      "outputs": []
    },
    {
      "cell_type": "code",
      "metadata": {
        "id": "uk19lmsRG0ig"
      },
      "source": [
        "# HW: Class-2\n",
        "Input scores of 5 subject\n",
        "find average of 5 subjects\n",
        "\n",
        "Grade:\n",
        "\n",
        "more than 95--->A+\n",
        "90-95                 A-\n",
        "85-90                 B+\n",
        "80-85                 B-\n",
        "75-80                 C+\n",
        "70-75                 C-\n",
        "60-70                 D\n",
        "Less than 60        N"
      ],
      "execution_count": null,
      "outputs": []
    },
    {
      "cell_type": "code",
      "metadata": {
        "id": "dejFW6xPG_Fh"
      },
      "source": [
        "# Different types of loops in python-Beginner-B Course\n",
        "FOR Loop    While Loop"
      ],
      "execution_count": null,
      "outputs": []
    }
  ]
}