{
  "nbformat": 4,
  "nbformat_minor": 0,
  "metadata": {
    "colab": {
      "name": "Suyash Class 3 Beginer 9/28/21.ipynb",
      "provenance": [],
      "authorship_tag": "ABX9TyMY8Q9hhux5s4atwDeykEUd",
      "include_colab_link": true
    },
    "kernelspec": {
      "name": "python3",
      "display_name": "Python 3"
    },
    "language_info": {
      "name": "python"
    }
  },
  "cells": [
    {
      "cell_type": "markdown",
      "metadata": {
        "id": "view-in-github",
        "colab_type": "text"
      },
      "source": [
        "<a href=\"https://colab.research.google.com/github/SBL12/Python-11/blob/master/Suyash_Class_3_Beginer_9_28_21.ipynb\" target=\"_parent\"><img src=\"https://colab.research.google.com/assets/colab-badge.svg\" alt=\"Open In Colab\"/></a>"
      ]
    },
    {
      "cell_type": "code",
      "metadata": {
        "colab": {
          "base_uri": "https://localhost:8080/",
          "height": 129
        },
        "id": "54IF-NKZ2N5t",
        "outputId": "a874eb63-e753-4083-f08a-47e39e3694e4"
      },
      "source": [
        "print(\"Input a letter to see if it is a consonant or a vowel\")\n",
        "letter=letter.lower()\n",
        "if letter == (\"A\" or \"E\" or \"I\" or \"O\" or \"U\")\n",
        "  print(\"This letter is a vowel\")\n",
        "\n",
        "      print(f\"    {letter}    is vowel\")\n",
        "else:\n",
        "      print(f\"    {letter}        is consonant\")"
      ],
      "execution_count": 1,
      "outputs": [
        {
          "output_type": "error",
          "ename": "SyntaxError",
          "evalue": "ignored",
          "traceback": [
            "\u001b[0;36m  File \u001b[0;32m\"<ipython-input-1-49c91f4a9c9b>\"\u001b[0;36m, line \u001b[0;32m3\u001b[0m\n\u001b[0;31m    if letter == (\"A\" or \"E\" or \"I\" or \"O\" or \"U\")\u001b[0m\n\u001b[0m                                                  ^\u001b[0m\n\u001b[0;31mSyntaxError\u001b[0m\u001b[0;31m:\u001b[0m invalid syntax\n"
          ]
        }
      ]
    },
    {
      "cell_type": "code",
      "metadata": {
        "colab": {
          "base_uri": "https://localhost:8080/"
        },
        "id": "wKhDQSEv9nxH",
        "outputId": "2644963a-01b9-43c4-9fba-b7f203ed7251"
      },
      "source": [
        "name=input(\"Input a name\")\n",
        "print(\"The first letter of your name\",name[0])\n",
        "print(\"second number\",name[1])\n",
        "print(\"third number\",name[2])\n",
        "print(\"fourth number\",name[3])"
      ],
      "execution_count": 3,
      "outputs": [
        {
          "output_type": "stream",
          "name": "stdout",
          "text": [
            "Input a nameSuyash\n",
            "The first letter of your name S\n",
            "second number u\n",
            "third number y\n",
            "fourth number a\n"
          ]
        }
      ]
    },
    {
      "cell_type": "code",
      "metadata": {
        "colab": {
          "base_uri": "https://localhost:8080/"
        },
        "id": "0XJrFJYWBt3b",
        "outputId": "d1e9dc97-cb94-47d4-e331-8e83986c9524"
      },
      "source": [
        "month=input(\"Input a month\")\n",
        "if month in [\"December\",\"January\",\"Febuary\"]:\n",
        "  print(\"December, January, and Feburary are in Winter.\")\n",
        "elif month in [\"March\",\"April\",\"May\"]:\n",
        "  print(\"March, April, and May are Spring Sesons.\")\n",
        "elif month in [\"June\",\"July\",\"August\"]:\n",
        "  print(\"June, July and August are summber months.\")\n",
        "elif month in [\"September\",\"October\", \"November\"]:\n",
        "  print(\"Semtember, October, and Nobember are in fall\")\n",
        "else:\n",
        "  print(\"Thats not a month!\")"
      ],
      "execution_count": 7,
      "outputs": [
        {
          "output_type": "stream",
          "name": "stdout",
          "text": [
            "Input a monthotober\n",
            "Thats not a month!\n"
          ]
        }
      ]
    },
    {
      "cell_type": "code",
      "metadata": {
        "id": "FaCz-hxPIrUK"
      },
      "source": [
        "# Homework \n",
        "# hehe No Homework."
      ],
      "execution_count": null,
      "outputs": []
    }
  ]
}